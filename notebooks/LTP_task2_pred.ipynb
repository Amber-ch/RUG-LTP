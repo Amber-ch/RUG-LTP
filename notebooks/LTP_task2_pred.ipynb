{
 "cells": [
  {
   "cell_type": "code",
   "execution_count": null,
   "metadata": {
    "id": "z0OV-JZtu-xp"
   },
   "outputs": [],
   "source": [
    "!pip install transformers[sentencepiece]\n",
    "!pip install tensorflow_addons"
   ]
  },
  {
   "cell_type": "code",
   "execution_count": null,
   "metadata": {
    "id": "y8J5_so1pbEe"
   },
   "outputs": [],
   "source": [
    "import pandas as pd\n",
    "from sklearn.preprocessing import MultiLabelBinarizer\n",
    "from collections import Counter\n",
    "from transformers import TFAutoModelForSequenceClassification\n",
    "from transformers import AutoTokenizer\n",
    "from tensorflow.keras.losses import BinaryCrossentropy\n",
    "from sklearn.metrics import accuracy_score, classification_report\n",
    "from tensorflow.keras.optimizers import Adam\n",
    "from keras.metrics import binary_accuracy\n",
    "import tensorflow as tf\n",
    "import re\n",
    "import tensorflow_addons as tfa\n",
    "import numpy as np"
   ]
  },
  {
   "cell_type": "code",
   "execution_count": 3,
   "metadata": {
    "id": "fJ_BT3oB3TWS"
   },
   "outputs": [],
   "source": [
    "tf.random.set_seed(1234)"
   ]
  },
  {
   "cell_type": "code",
   "execution_count": 4,
   "metadata": {
    "colab": {
     "base_uri": "https://localhost:8080/"
    },
    "id": "bcm-iCUsWzl0",
    "outputId": "5421c38a-5ed5-47c1-dfe3-f871a54dd68a"
   },
   "outputs": [
    {
     "name": "stdout",
     "output_type": "stream",
     "text": [
      "Mounted at /content/drive\n"
     ]
    }
   ],
   "source": [
    "from google.colab import drive\n",
    "drive.mount('/content/drive')"
   ]
  },
  {
   "cell_type": "code",
   "execution_count": 4,
   "metadata": {
    "id": "62MR0VWx9KrZ"
   },
   "outputs": [],
   "source": [
    "def extract_labels(df_labels):\n",
    "    # extracting labels to fit the multilabel encoder, \n",
    "    # to convert our numerical predictions to their original label value\n",
    "    labels = []\n",
    "    for index, row in df_labels.iterrows():\n",
    "        values = []\n",
    "        for k, v in row.items():\n",
    "            if v == 1:\n",
    "                values.append(k)\n",
    "        labels.append(values)\n",
    "    return labels"
   ]
  },
  {
   "cell_type": "code",
   "execution_count": 5,
   "metadata": {
    "id": "BPVNj74ReJpN"
   },
   "outputs": [],
   "source": [
    "def predict(lm, model, text, labels):\n",
    "    print('Predicting on {} sentences:'.format(len(text)))\n",
    "    # Selecting the correct tokenizer for the model.\n",
    "    tokenizer = AutoTokenizer.from_pretrained(lm, use_fast=False)\n",
    "    tok_text = tokenizer(text, padding=True, truncation=True, return_tensors=\"np\").data\n",
    "\n",
    "    # Encoding the labels with sklearns MultiLabelBinarizer \n",
    "    encoder = MultiLabelBinarizer()\n",
    "    encoder.fit(labels)\n",
    "\n",
    "    # Get predictions and convert to numerical\n",
    "    pred = model.predict(tok_text)[\"logits\"]\n",
    "    prob = tf.nn.sigmoid(pred)\n",
    "\n",
    "    # multi-label predictions\n",
    "    multi_pred = np.zeros(prob.shape)\n",
    "    multi_pred[np.where(prob >= 0.5)] = 1\n",
    "\n",
    "    # top prob label prediction\n",
    "    single_pred = np.zeros(prob.shape)\n",
    "    for p, max_prob in zip(single_pred, np.argmax(prob, axis=1)):\n",
    "        p[max_prob] = 1\n",
    "\n",
    "    # convert numerical labels to original values\n",
    "    single_predictions = encoder.inverse_transform(single_pred)\n",
    "    multi_predictions = encoder.inverse_transform(multi_pred)\n",
    "    return multi_predictions, single_predictions"
   ]
  },
  {
   "cell_type": "markdown",
   "metadata": {
    "id": "Aeqire4pDZwC"
   },
   "source": [
    "## For splitting comments into paragraphs"
   ]
  },
  {
   "cell_type": "code",
   "execution_count": 35,
   "metadata": {
    "id": "6ZJHqu7Xn9kl"
   },
   "outputs": [],
   "source": [
    "df_task2 = pd.read_csv('top100threads.csv')\n",
    "# removing links, removing double whitespace and splitting comments on double whitespace (\\n\\n)\n",
    "df_task2['comment_text'] = df_task2['comment_text'].apply(lambda x: re.sub(r'http\\S+', '', str(x).strip())).apply(lambda x: x.split('\\n\\n'))\n",
    "# converting comments into seperate rows, with same comment_id\n",
    "df_task2 = df_task2.explode('comment_text')\n",
    "# adding new comment_id index named sub_comment_id\n",
    "df_task2['sub_comment_id'] = df_task2.groupby('comment_id').cumcount().astype(str)\n",
    "df_task2['sub_comment_id'] = df_task2['comment_id'].astype(str) + '_' + df_task2['sub_comment_id']\n",
    "# adding column with comment text length splitted on word level\n",
    "df_task2['comment_length'] = df_task2['comment_text'].apply(lambda x: len(x.split()))\n",
    "# update column positions\n",
    "col_pos = [\"thread_id\",\"thread_title\", \"comment_id\", \"sub_comment_id\",\"comment_text\", \"comment_length\", \"total_upvotes\", \"total_downvotes\", \"total_score\", \"author\"]\n",
    "df_task2 = df_task2.reindex(columns=col_pos)"
   ]
  },
  {
   "cell_type": "markdown",
   "metadata": {
    "id": "1wA9VrynDaaf"
   },
   "source": [
    "## For using comments without splitting (original)"
   ]
  },
  {
   "cell_type": "code",
   "execution_count": 16,
   "metadata": {
    "id": "rOj8N0ylBW5O"
   },
   "outputs": [],
   "source": [
    "df_task2 = pd.read_csv('top100threads.csv')\n",
    "# removing links, removing double whitespace and splitting comments on double whitespace (\\n\\n)\n",
    "df_task2['comment_text'] = df_task2['comment_text'].apply(lambda x: re.sub(r'http\\S+', '', str(x).strip()))\n",
    "df_task2['comment_text'] = df_task2['comment_text'].apply(lambda x: re.sub('\\n', ' ', x))\n",
    "# adding column with comment text length splitted on word level\n",
    "df_task2['comment_length'] = df_task2['comment_text'].apply(lambda x: len(x.split()))\n",
    "# update column positions\n",
    "col_pos = [\"thread_id\",\"thread_title\", \"comment_id\",\"comment_text\", \"comment_length\", \"total_upvotes\", \"total_downvotes\", \"total_score\", \"author\"]\n",
    "df_task2 = df_task2.reindex(columns=col_pos)"
   ]
  },
  {
   "cell_type": "markdown",
   "metadata": {
    "id": "k_6VHvPK8IEZ"
   },
   "source": [
    "## Predicting DeBERTa-large on task 2 comments"
   ]
  },
  {
   "cell_type": "code",
   "execution_count": 36,
   "metadata": {
    "id": "bHV9nTr5npjw"
   },
   "outputs": [],
   "source": [
    "task2_comments = list(df_task2['comment_text'])"
   ]
  },
  {
   "cell_type": "code",
   "execution_count": 37,
   "metadata": {
    "id": "ECojyJq28pO6"
   },
   "outputs": [],
   "source": [
    "labels = pd.read_table('/content/drive/MyDrive/LTP_data/labels-training.tsv')\n",
    "labels = extract_labels(labels)"
   ]
  },
  {
   "cell_type": "code",
   "execution_count": 38,
   "metadata": {
    "colab": {
     "base_uri": "https://localhost:8080/"
    },
    "id": "5IABpbb_8Gk3",
    "outputId": "3c336797-a216-46c9-c009-0638a51641be"
   },
   "outputs": [
    {
     "name": "stderr",
     "output_type": "stream",
     "text": [
      "All model checkpoint layers were used when initializing TFDebertaForSequenceClassification.\n",
      "\n",
      "Some layers of TFDebertaForSequenceClassification were not initialized from the model checkpoint at microsoft/deberta-large and are newly initialized: ['classifier', 'pooler', 'cls_dropout']\n",
      "You should probably TRAIN this model on a down-stream task to be able to use it for predictions and inference.\n"
     ]
    }
   ],
   "source": [
    "DEBERTA = TFAutoModelForSequenceClassification.from_pretrained('microsoft/deberta-large',\n",
    "                                                                num_labels=20,\n",
    "                                                                problem_type=\"multi_label_classification\")\n",
    "DEBERTA.load_weights('/content/drive/MyDrive/LTP_data/LTP_DEBERTA_weights.h5')"
   ]
  },
  {
   "cell_type": "code",
   "execution_count": null,
   "metadata": {
    "id": "ikiwVWuZ8fTP"
   },
   "outputs": [],
   "source": [
    "multi_pred, top_prob_pred = predict('microsoft/deberta-large', DEBERTA, task2_comments, labels)"
   ]
  },
  {
   "cell_type": "code",
   "execution_count": 43,
   "metadata": {
    "id": "s2UIn5bC9hFN"
   },
   "outputs": [],
   "source": [
    "df_task2['label_prediction'] = multi_pred\n",
    "df_task2['highest_prob_label'] = top_prob_pred"
   ]
  },
  {
   "cell_type": "code",
   "execution_count": 44,
   "metadata": {
    "id": "gAeV1ipQ9kQj"
   },
   "outputs": [],
   "source": [
    "df_task2.to_csv('DEBERTA_results.csv')"
   ]
  },
  {
   "cell_type": "code",
   "execution_count": null,
   "metadata": {
    "id": "Sp1J_6RS68u_"
   },
   "outputs": [],
   "source": [
    "df_task2"
   ]
  }
 ],
 "metadata": {
  "accelerator": "GPU",
  "colab": {
   "gpuType": "T4",
   "provenance": []
  },
  "kernelspec": {
   "display_name": "Python 3 (ipykernel)",
   "language": "python",
   "name": "python3"
  },
  "language_info": {
   "codemirror_mode": {
    "name": "ipython",
    "version": 3
   },
   "file_extension": ".py",
   "mimetype": "text/x-python",
   "name": "python",
   "nbconvert_exporter": "python",
   "pygments_lexer": "ipython3",
   "version": "3.10.7"
  }
 },
 "nbformat": 4,
 "nbformat_minor": 1
}
